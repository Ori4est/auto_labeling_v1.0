{
  "nbformat": 4,
  "nbformat_minor": 0,
  "metadata": {
    "colab": {
      "provenance": [],
      "authorship_tag": "ABX9TyNtRbELMvyOZQzsipi7+cfa",
      "include_colab_link": true
    },
    "kernelspec": {
      "name": "python3",
      "display_name": "Python 3"
    },
    "language_info": {
      "name": "python"
    }
  },
  "cells": [
    {
      "cell_type": "markdown",
      "metadata": {
        "id": "view-in-github",
        "colab_type": "text"
      },
      "source": [
        "<a href=\"https://colab.research.google.com/github/Ori4est/auto_labeling_v1.0/blob/main/auto_labelling_demo.ipynb\" target=\"_parent\"><img src=\"https://colab.research.google.com/assets/colab-badge.svg\" alt=\"Open In Colab\"/></a>"
      ]
    },
    {
      "cell_type": "code",
      "execution_count": 2,
      "metadata": {
        "colab": {
          "base_uri": "https://localhost:8080/"
        },
        "id": "olmO5YamQYKS",
        "outputId": "98395974-b59f-4536-f972-4450426f8097"
      },
      "outputs": [
        {
          "output_type": "stream",
          "name": "stdout",
          "text": [
            "Drive already mounted at /content/gdrive; to attempt to forcibly remount, call drive.mount(\"/content/gdrive\", force_remount=True).\n"
          ]
        }
      ],
      "source": [
        "from google.colab import drive\n",
        "drive.mount('/content/gdrive')"
      ]
    },
    {
      "cell_type": "code",
      "source": [
        "import sys\n",
        "sys.path.append('/content/gdrive/MyDrive/Colab Notebooks/AutoLabeling')"
      ],
      "metadata": {
        "id": "S8eAxF_I6lVg"
      },
      "execution_count": 3,
      "outputs": []
    },
    {
      "cell_type": "code",
      "source": [
        "DEMO_PATH = '/content/gdrive/MyDrive/Colab Notebooks/AutoLabeling'\n",
        "%cd $DEMO_PATH\n",
        "#!pip install -r requirements.txt # version conflict\n",
        "#!pip install psd_tools\n",
        "#!pip install PhotoshopAPI"
      ],
      "metadata": {
        "colab": {
          "base_uri": "https://localhost:8080/"
        },
        "id": "0s2E4-kj7Hlw",
        "outputId": "868f3a82-4f34-4990-ffa9-10f1b22949d6"
      },
      "execution_count": 5,
      "outputs": [
        {
          "output_type": "stream",
          "name": "stdout",
          "text": [
            "/content/gdrive/MyDrive/Colab Notebooks/AutoLabeling\n",
            "Collecting PhotoshopAPI\n",
            "  Downloading PhotoshopAPI-0.4.0-cp310-cp310-manylinux_2_27_x86_64.manylinux_2_28_x86_64.whl.metadata (10 kB)\n",
            "Requirement already satisfied: numpy>=1.21.6 in /usr/local/lib/python3.10/dist-packages (from PhotoshopAPI) (1.26.4)\n",
            "Downloading PhotoshopAPI-0.4.0-cp310-cp310-manylinux_2_27_x86_64.manylinux_2_28_x86_64.whl (999 kB)\n",
            "\u001b[2K   \u001b[90m━━━━━━━━━━━━━━━━━━━━━━━━━━━━━━━━━━━━━━━━\u001b[0m \u001b[32m999.9/999.9 kB\u001b[0m \u001b[31m17.0 MB/s\u001b[0m eta \u001b[36m0:00:00\u001b[0m\n",
            "\u001b[?25hInstalling collected packages: PhotoshopAPI\n",
            "Successfully installed PhotoshopAPI-0.4.0\n"
          ]
        }
      ]
    },
    {
      "cell_type": "code",
      "source": [
        "import glob\n",
        "import os\n",
        "import re\n",
        "import cv2\n",
        "from math import pi\n",
        "import numpy as np\n",
        "from itertools import groupby, product\n",
        "import csv\n",
        "import argparse\n",
        "from utils import *\n",
        "from auto_labelling_multi_prods_v1 import layer_blend"
      ],
      "metadata": {
        "id": "avb3961J60A1"
      },
      "execution_count": 6,
      "outputs": []
    },
    {
      "cell_type": "code",
      "source": [
        "brand_name = 'LOREAL'\n",
        "# define img paths\n",
        "prod_hed_img_dir = './data/data-generated-images-lorealparis-v3/'\n",
        "hed_imgs_path = glob.glob(prod_hed_img_dir + \"*hed*.png\") + glob.glob(prod_hed_img_dir + \"*HED*.png\")\n",
        "hed_imgs_path_by_brand = []\n",
        "for img_path in hed_imgs_path:\n",
        "    if re.search(brand_name, img_path, re.IGNORECASE):\n",
        "        hed_imgs_path_by_brand.append(img_path)\n",
        "\n",
        "prod_img_dir = './data/data-generated-images-lorealparis-v3/'\n",
        "\n",
        "\n",
        "prod_hed_ref_dir = './data/data-generated-images-lorealparis-v3/'\n",
        "prod_hed_ref_path = glob.glob(prod_hed_ref_dir+\"/\"+brand_name+\"*contour.png\")\n",
        "prod_hed_ref_img = cv2.imread(prod_hed_ref_path[0])\n",
        "\n",
        "label_img_dir = './data/autolabel-algo-data-testing/'\n",
        "labels_path = glob.glob(label_img_dir+\"*.png\")\n",
        "label_path_by_brand = []\n",
        "for label_path in labels_path:\n",
        "    if re.search(brand_name, label_path, re.IGNORECASE):\n",
        "        label_path_by_brand.append(label_path)\n",
        "label_img = cv2.imread(label_path_by_brand[0], -1)\n",
        "\n",
        "prod_spec_dir = './data/autolabel-algo-data-testing/'\n",
        "csvfile = open(os.path.join(prod_spec_dir, 'data_autolable_algo_test.csv'), newline='')\n",
        "csv_reader = csv.DictReader(csvfile)\n",
        "prod_spec = [row for row in csv_reader if row['brand_name'].upper().split(' ')[0] in brand_name][0]"
      ],
      "metadata": {
        "id": "h77jCjXQ9Tni"
      },
      "execution_count": 8,
      "outputs": []
    },
    {
      "cell_type": "code",
      "source": [
        "# Paired product image and product hed image\n",
        "for img_path in hed_imgs_path_by_brand:\n",
        "    prod_name = os.path.basename(img_path).split('.')[0].replace('-hed', '').replace('_HED', '')\n",
        "\n",
        "    prod_hed_img = cv2.imread(img_path, -1) # 4ch\n",
        "    prod_img = cv2.imread(os.path.join(os.path.dirname(img_path), prod_name)+'.png')\n",
        "\n",
        "    layer_blend(prod_hed_img,   # (hed w bg)\n",
        "                prod_hed_ref_img,   # (hed wo bg)\n",
        "                label_img,      # (brand logo rgba)\n",
        "                prod_img,       # (prod img)\n",
        "                prod_spec['product_name']+'#'+prod_name,  # (given)\n",
        "                product_width=float(prod_spec['product_width']),  # (given) set layer width\n",
        "                product_height=float(prod_spec['product_length']), # (given) set layer height\n",
        "                label_width=float(prod_spec['label_width']), # (given)\n",
        "                label_height=float(prod_spec['label_length']), # (given)\n",
        "                left_margin=float(prod_spec['left_margin_width']), # (given)\n",
        "                top_margin=float(prod_spec['top_margin_width']),  # (given)\n",
        "                save_path='./output/'+ prod_spec['brand_name'] + '/' + prod_spec['product_name'] + '/',\n",
        "                save_psd=True)"
      ],
      "metadata": {
        "colab": {
          "base_uri": "https://localhost:8080/"
        },
        "id": "D2Td7jzv9tNx",
        "outputId": "f79cb5f6-94ed-4568-e352-969b4ab325ac"
      },
      "execution_count": 9,
      "outputs": [
        {
          "output_type": "stream",
          "name": "stdout",
          "text": [
            "129 516 544 138103.5\n",
            "130 516 544 138129.5\n",
            "The grouped elements : [[(130, 516, 544), (129, 516, 544)]]\n",
            "1 [[(130, 516, 544), (129, 516, 544)]]\n",
            "best contour matching score 0 0.8907259516691117 (130, 516, 544)\n",
            "primer contour 0.8907259516691117\n",
            "0.8907259516691117 138129.5\n",
            "comparing p1, cntr, angle (517.0085958742181, 1924.4821435057481) (516, 544) 1.5700657156098823 1\n",
            "scale_ratio 791.0 5064.0 179.0 1162.0 (0.15620063191153238, 0.1540447504302926)\n",
            "margin 13.170826161790016 216.33787519747236 * 16.482788296041306 380.1923380726698\n",
            "rota label img shape (355, 161, 4) 512 512 (516, 544) (517.5, 541.5)\n",
            "dict_keys(['1'])\n",
            "88 752 569 71936.5\n",
            "89 290 569 71947.5\n",
            "90 752 569 71955.5\n",
            "91 290 569 71966.5\n",
            "94 516 544 138103.5\n",
            "95 516 544 138129.5\n",
            "The grouped elements : [[(91, 290, 569), (89, 290, 569)], [(94, 516, 544), (95, 516, 544)], [(90, 752, 569), (88, 752, 569)]]\n",
            "3 [[(91, 290, 569), (89, 290, 569)], [(94, 516, 544), (95, 516, 544)], [(90, 752, 569), (88, 752, 569)]]\n",
            "best contour matching score 0 0.5795365361342888 (91, 290, 569)\n",
            "best contour matching score 1 0.8907259516691117 (95, 516, 544)\n",
            "best contour matching score 0 0.5697572842812157 (90, 752, 569)\n",
            "primer contour 0.5697572842812157\n",
            "0.5697572842812157 71955.5\n",
            "comparing p1, cntr, angle (752.7913199741424, 1291.580583394532) (752, 569) 1.5697011968177264 1\n",
            "scale_ratio 573.0 5064.0 129.0 1162.0 (0.11315165876777251, 0.11101549053356283)\n",
            "margin 9.491824440619622 156.71504739336493 * 11.878657487091223 275.4111374407583\n",
            "rota label img shape (256, 116, 4) 512 512 (752, 569) (752.5, 567.5)\n",
            "0.5795365361342888 71966.5\n",
            "comparing p1, cntr, angle (290.7945901045323, 1291.6055187583481) (290, 569) 1.5696967091423277 1\n",
            "scale_ratio 572.9998779296875 5064.0 128.99996948242188 1162.0 (0.11315163466226057, 0.11101546427058681)\n",
            "margin 9.491822195135173 156.71501400723088 * 11.878654676952788 275.41107876794223\n",
            "rota label img shape (256, 116, 4) 512 512 (290, 569) (290.5, 567.4998779296875)\n",
            "0.8907259516691117 138129.5\n",
            "comparing p1, cntr, angle (517.0085958742181, 1924.4821435057481) (516, 544) 1.5700657156098823 1\n",
            "scale_ratio 791.0 5064.0 179.0 1162.0 (0.15620063191153238, 0.1540447504302926)\n",
            "margin 13.170826161790016 216.33787519747236 * 16.482788296041306 380.1923380726698\n",
            "rota label img shape (355, 161, 4) 512 512 (516, 544) (517.5, 541.5)\n",
            "dict_keys(['1', '2', '3'])\n"
          ]
        }
      ]
    }
  ]
}