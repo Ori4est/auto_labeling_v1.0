{
  "nbformat": 4,
  "nbformat_minor": 0,
  "metadata": {
    "colab": {
      "provenance": [],
      "gpuType": "L4",
      "authorship_tag": "ABX9TyM2V06wiapEz+VYSkiHldi4",
      "include_colab_link": true
    },
    "kernelspec": {
      "name": "python3",
      "display_name": "Python 3"
    },
    "language_info": {
      "name": "python"
    },
    "accelerator": "GPU",
    "widgets": {
      "application/vnd.jupyter.widget-state+json": {
        "4f6fbe5055b8466f873d40377b2092af": {
          "model_module": "@jupyter-widgets/controls",
          "model_name": "HBoxModel",
          "model_module_version": "1.5.0",
          "state": {
            "_dom_classes": [],
            "_model_module": "@jupyter-widgets/controls",
            "_model_module_version": "1.5.0",
            "_model_name": "HBoxModel",
            "_view_count": null,
            "_view_module": "@jupyter-widgets/controls",
            "_view_module_version": "1.5.0",
            "_view_name": "HBoxView",
            "box_style": "",
            "children": [
              "IPY_MODEL_650c322d62d7445f8aa8634f4ac8d3c6",
              "IPY_MODEL_4f3b7bea8c3a4aab82598fcc5a6b6657",
              "IPY_MODEL_f238f354e8b34a3c9513cca20e4dd639"
            ],
            "layout": "IPY_MODEL_8434b94d0b224d7da00b71afdc8498e8"
          }
        },
        "650c322d62d7445f8aa8634f4ac8d3c6": {
          "model_module": "@jupyter-widgets/controls",
          "model_name": "HTMLModel",
          "model_module_version": "1.5.0",
          "state": {
            "_dom_classes": [],
            "_model_module": "@jupyter-widgets/controls",
            "_model_module_version": "1.5.0",
            "_model_name": "HTMLModel",
            "_view_count": null,
            "_view_module": "@jupyter-widgets/controls",
            "_view_module_version": "1.5.0",
            "_view_name": "HTMLView",
            "description": "",
            "description_tooltip": null,
            "layout": "IPY_MODEL_c7e4aed4539c4349a411d6dee1942bd8",
            "placeholder": "​",
            "style": "IPY_MODEL_e172c2630f81492aa863deddc734df51",
            "value": "  0%"
          }
        },
        "4f3b7bea8c3a4aab82598fcc5a6b6657": {
          "model_module": "@jupyter-widgets/controls",
          "model_name": "FloatProgressModel",
          "model_module_version": "1.5.0",
          "state": {
            "_dom_classes": [],
            "_model_module": "@jupyter-widgets/controls",
            "_model_module_version": "1.5.0",
            "_model_name": "FloatProgressModel",
            "_view_count": null,
            "_view_module": "@jupyter-widgets/controls",
            "_view_module_version": "1.5.0",
            "_view_name": "ProgressView",
            "bar_style": "danger",
            "description": "",
            "description_tooltip": null,
            "layout": "IPY_MODEL_ab50a00249fc41b88fe17faf915a4639",
            "max": 113,
            "min": 0,
            "orientation": "horizontal",
            "style": "IPY_MODEL_a93867ff344c4ad6b37df3ff96481389",
            "value": 0
          }
        },
        "f238f354e8b34a3c9513cca20e4dd639": {
          "model_module": "@jupyter-widgets/controls",
          "model_name": "HTMLModel",
          "model_module_version": "1.5.0",
          "state": {
            "_dom_classes": [],
            "_model_module": "@jupyter-widgets/controls",
            "_model_module_version": "1.5.0",
            "_model_name": "HTMLModel",
            "_view_count": null,
            "_view_module": "@jupyter-widgets/controls",
            "_view_module_version": "1.5.0",
            "_view_name": "HTMLView",
            "description": "",
            "description_tooltip": null,
            "layout": "IPY_MODEL_4801c53244b24e11ab363e5f6e29b215",
            "placeholder": "​",
            "style": "IPY_MODEL_3a978363e3ee477f826015155e5ac9aa",
            "value": " 0/113 [00:00&lt;?, ?it/s]"
          }
        },
        "8434b94d0b224d7da00b71afdc8498e8": {
          "model_module": "@jupyter-widgets/base",
          "model_name": "LayoutModel",
          "model_module_version": "1.2.0",
          "state": {
            "_model_module": "@jupyter-widgets/base",
            "_model_module_version": "1.2.0",
            "_model_name": "LayoutModel",
            "_view_count": null,
            "_view_module": "@jupyter-widgets/base",
            "_view_module_version": "1.2.0",
            "_view_name": "LayoutView",
            "align_content": null,
            "align_items": null,
            "align_self": null,
            "border": null,
            "bottom": null,
            "display": null,
            "flex": null,
            "flex_flow": null,
            "grid_area": null,
            "grid_auto_columns": null,
            "grid_auto_flow": null,
            "grid_auto_rows": null,
            "grid_column": null,
            "grid_gap": null,
            "grid_row": null,
            "grid_template_areas": null,
            "grid_template_columns": null,
            "grid_template_rows": null,
            "height": null,
            "justify_content": null,
            "justify_items": null,
            "left": null,
            "margin": null,
            "max_height": null,
            "max_width": null,
            "min_height": null,
            "min_width": null,
            "object_fit": null,
            "object_position": null,
            "order": null,
            "overflow": null,
            "overflow_x": null,
            "overflow_y": null,
            "padding": null,
            "right": null,
            "top": null,
            "visibility": null,
            "width": null
          }
        },
        "c7e4aed4539c4349a411d6dee1942bd8": {
          "model_module": "@jupyter-widgets/base",
          "model_name": "LayoutModel",
          "model_module_version": "1.2.0",
          "state": {
            "_model_module": "@jupyter-widgets/base",
            "_model_module_version": "1.2.0",
            "_model_name": "LayoutModel",
            "_view_count": null,
            "_view_module": "@jupyter-widgets/base",
            "_view_module_version": "1.2.0",
            "_view_name": "LayoutView",
            "align_content": null,
            "align_items": null,
            "align_self": null,
            "border": null,
            "bottom": null,
            "display": null,
            "flex": null,
            "flex_flow": null,
            "grid_area": null,
            "grid_auto_columns": null,
            "grid_auto_flow": null,
            "grid_auto_rows": null,
            "grid_column": null,
            "grid_gap": null,
            "grid_row": null,
            "grid_template_areas": null,
            "grid_template_columns": null,
            "grid_template_rows": null,
            "height": null,
            "justify_content": null,
            "justify_items": null,
            "left": null,
            "margin": null,
            "max_height": null,
            "max_width": null,
            "min_height": null,
            "min_width": null,
            "object_fit": null,
            "object_position": null,
            "order": null,
            "overflow": null,
            "overflow_x": null,
            "overflow_y": null,
            "padding": null,
            "right": null,
            "top": null,
            "visibility": null,
            "width": null
          }
        },
        "e172c2630f81492aa863deddc734df51": {
          "model_module": "@jupyter-widgets/controls",
          "model_name": "DescriptionStyleModel",
          "model_module_version": "1.5.0",
          "state": {
            "_model_module": "@jupyter-widgets/controls",
            "_model_module_version": "1.5.0",
            "_model_name": "DescriptionStyleModel",
            "_view_count": null,
            "_view_module": "@jupyter-widgets/base",
            "_view_module_version": "1.2.0",
            "_view_name": "StyleView",
            "description_width": ""
          }
        },
        "ab50a00249fc41b88fe17faf915a4639": {
          "model_module": "@jupyter-widgets/base",
          "model_name": "LayoutModel",
          "model_module_version": "1.2.0",
          "state": {
            "_model_module": "@jupyter-widgets/base",
            "_model_module_version": "1.2.0",
            "_model_name": "LayoutModel",
            "_view_count": null,
            "_view_module": "@jupyter-widgets/base",
            "_view_module_version": "1.2.0",
            "_view_name": "LayoutView",
            "align_content": null,
            "align_items": null,
            "align_self": null,
            "border": null,
            "bottom": null,
            "display": null,
            "flex": null,
            "flex_flow": null,
            "grid_area": null,
            "grid_auto_columns": null,
            "grid_auto_flow": null,
            "grid_auto_rows": null,
            "grid_column": null,
            "grid_gap": null,
            "grid_row": null,
            "grid_template_areas": null,
            "grid_template_columns": null,
            "grid_template_rows": null,
            "height": null,
            "justify_content": null,
            "justify_items": null,
            "left": null,
            "margin": null,
            "max_height": null,
            "max_width": null,
            "min_height": null,
            "min_width": null,
            "object_fit": null,
            "object_position": null,
            "order": null,
            "overflow": null,
            "overflow_x": null,
            "overflow_y": null,
            "padding": null,
            "right": null,
            "top": null,
            "visibility": null,
            "width": null
          }
        },
        "a93867ff344c4ad6b37df3ff96481389": {
          "model_module": "@jupyter-widgets/controls",
          "model_name": "ProgressStyleModel",
          "model_module_version": "1.5.0",
          "state": {
            "_model_module": "@jupyter-widgets/controls",
            "_model_module_version": "1.5.0",
            "_model_name": "ProgressStyleModel",
            "_view_count": null,
            "_view_module": "@jupyter-widgets/base",
            "_view_module_version": "1.2.0",
            "_view_name": "StyleView",
            "bar_color": null,
            "description_width": ""
          }
        },
        "4801c53244b24e11ab363e5f6e29b215": {
          "model_module": "@jupyter-widgets/base",
          "model_name": "LayoutModel",
          "model_module_version": "1.2.0",
          "state": {
            "_model_module": "@jupyter-widgets/base",
            "_model_module_version": "1.2.0",
            "_model_name": "LayoutModel",
            "_view_count": null,
            "_view_module": "@jupyter-widgets/base",
            "_view_module_version": "1.2.0",
            "_view_name": "LayoutView",
            "align_content": null,
            "align_items": null,
            "align_self": null,
            "border": null,
            "bottom": null,
            "display": null,
            "flex": null,
            "flex_flow": null,
            "grid_area": null,
            "grid_auto_columns": null,
            "grid_auto_flow": null,
            "grid_auto_rows": null,
            "grid_column": null,
            "grid_gap": null,
            "grid_row": null,
            "grid_template_areas": null,
            "grid_template_columns": null,
            "grid_template_rows": null,
            "height": null,
            "justify_content": null,
            "justify_items": null,
            "left": null,
            "margin": null,
            "max_height": null,
            "max_width": null,
            "min_height": null,
            "min_width": null,
            "object_fit": null,
            "object_position": null,
            "order": null,
            "overflow": null,
            "overflow_x": null,
            "overflow_y": null,
            "padding": null,
            "right": null,
            "top": null,
            "visibility": null,
            "width": null
          }
        },
        "3a978363e3ee477f826015155e5ac9aa": {
          "model_module": "@jupyter-widgets/controls",
          "model_name": "DescriptionStyleModel",
          "model_module_version": "1.5.0",
          "state": {
            "_model_module": "@jupyter-widgets/controls",
            "_model_module_version": "1.5.0",
            "_model_name": "DescriptionStyleModel",
            "_view_count": null,
            "_view_module": "@jupyter-widgets/base",
            "_view_module_version": "1.2.0",
            "_view_name": "StyleView",
            "description_width": ""
          }
        }
      }
    }
  },
  "cells": [
    {
      "cell_type": "markdown",
      "metadata": {
        "id": "view-in-github",
        "colab_type": "text"
      },
      "source": [
        "<a href=\"https://colab.research.google.com/github/Ori4est/auto_labeling_v1.0/blob/main/auto_labelling_demo_1v3.ipynb\" target=\"_parent\"><img src=\"https://colab.research.google.com/assets/colab-badge.svg\" alt=\"Open In Colab\"/></a>"
      ]
    },
    {
      "cell_type": "code",
      "execution_count": 1,
      "metadata": {
        "colab": {
          "base_uri": "https://localhost:8080/"
        },
        "id": "olmO5YamQYKS",
        "outputId": "719987f4-852e-4387-dbed-fc229b783626"
      },
      "outputs": [
        {
          "output_type": "stream",
          "name": "stdout",
          "text": [
            "Drive already mounted at /content/gdrive; to attempt to forcibly remount, call drive.mount(\"/content/gdrive\", force_remount=True).\n"
          ]
        }
      ],
      "source": [
        "from google.colab import drive\n",
        "drive.mount('/content/gdrive')"
      ]
    },
    {
      "cell_type": "code",
      "source": [
        "import sys\n",
        "sys.path.append('/content/gdrive/MyDrive/Colab Notebooks/AutoLabeling')\n",
        "sys.path.append('/content/grive/Shareddrives/TheSEA_tech/AutoLabel')"
      ],
      "metadata": {
        "id": "S8eAxF_I6lVg"
      },
      "execution_count": 2,
      "outputs": []
    },
    {
      "cell_type": "code",
      "source": [
        "DEMO_PATH = '/content/gdrive/MyDrive/Colab Notebooks/AutoLabeling'\n",
        "DATA_PATH = '/content/grive/Shareddrives/TheSEA_tech/AutoLabel/dataset'\n",
        "\n",
        "%cd $DEMO_PATH\n",
        "try:\n",
        "  !pip install -r requirements.txt # version conflict\n",
        "  !pip install psd_tools\n",
        "  !pip install PhotoshopAPI\n",
        "  !pip install tqdm\n",
        "except:\n",
        "  print(\"Something went wrong. version conflit?\")"
      ],
      "metadata": {
        "colab": {
          "base_uri": "https://localhost:8080/"
        },
        "id": "0s2E4-kj7Hlw",
        "outputId": "a5171237-b399-4f67-e0e6-7f7fbe755dc4"
      },
      "execution_count": 3,
      "outputs": [
        {
          "output_type": "stream",
          "name": "stdout",
          "text": [
            "/content/gdrive/MyDrive/Colab Notebooks/AutoLabeling\n",
            "Collecting aesara==2.9.3 (from -r requirements.txt (line 1))\n",
            "  Using cached aesara-2.9.3-py3-none-any.whl.metadata (2.6 kB)\n",
            "Requirement already satisfied: aggdraw==1.3.18.post0 in /usr/local/lib/python3.10/dist-packages (from -r requirements.txt (line 2)) (1.3.18.post0)\n",
            "Collecting argcomplete==3.4.0 (from -r requirements.txt (line 3))\n",
            "  Using cached argcomplete-3.4.0-py3-none-any.whl.metadata (16 kB)\n",
            "Collecting array_api_strict==2.0.1 (from -r requirements.txt (line 4))\n",
            "  Using cached array_api_strict-2.0.1-py3-none-any.whl.metadata (1.8 kB)\n",
            "Collecting astroid==2.14.2 (from -r requirements.txt (line 5))\n",
            "  Using cached astroid-2.14.2-py3-none-any.whl.metadata (4.7 kB)\n",
            "Collecting astropy==5.1 (from -r requirements.txt (line 6))\n",
            "  Using cached astropy-5.1-cp310-cp310-manylinux_2_12_x86_64.manylinux2010_x86_64.whl.metadata (8.0 kB)\n",
            "Collecting asyncssh_unofficial==0.9.2 (from -r requirements.txt (line 7))\n",
            "  Using cached asyncssh-unofficial-0.9.2.tar.gz (80 kB)\n",
            "  Preparing metadata (setup.py) ... \u001b[?25l\u001b[?25hdone\n",
            "Collecting av==12.3.0 (from -r requirements.txt (line 8))\n",
            "  Using cached av-12.3.0-cp310-cp310-manylinux_2_17_x86_64.manylinux2014_x86_64.whl.metadata (4.6 kB)\n",
            "Collecting black==24.4.2 (from -r requirements.txt (line 9))\n",
            "  Using cached black-24.4.2-cp310-cp310-manylinux_2_17_x86_64.manylinux2014_x86_64.whl.metadata (77 kB)\n",
            "Collecting brotlicffi==1.1.0.0 (from -r requirements.txt (line 10))\n",
            "  Using cached brotlicffi-1.1.0.0-cp37-abi3-manylinux_2_17_x86_64.manylinux2014_x86_64.whl.metadata (5.7 kB)\n",
            "Collecting brotlipy==0.7.0 (from -r requirements.txt (line 11))\n",
            "  Using cached brotlipy-0.7.0-cp35-abi3-manylinux2010_x86_64.whl.metadata (2.9 kB)\n",
            "Collecting cchardet==2.1.7 (from -r requirements.txt (line 12))\n",
            "  Using cached cchardet-2.1.7.tar.gz (653 kB)\n",
            "  Preparing metadata (setup.py) ... \u001b[?25l\u001b[?25hdone\n",
            "Collecting clr==1.0.3 (from -r requirements.txt (line 13))\n",
            "  Using cached clr-1.0.3-py2.py3-none-any.whl.metadata (2.5 kB)\n",
            "Collecting ConfigParser==7.0.0 (from -r requirements.txt (line 14))\n",
            "  Using cached configparser-7.0.0-py3-none-any.whl.metadata (5.4 kB)\n",
            "Collecting curio==1.6 (from -r requirements.txt (line 15))\n",
            "  Using cached curio-1.6.tar.gz (235 kB)\n",
            "  Preparing metadata (setup.py) ... \u001b[?25l\u001b[?25hdone\n",
            "Collecting Cython==3.0.10 (from -r requirements.txt (line 16))\n",
            "  Using cached Cython-3.0.10-cp310-cp310-manylinux_2_17_x86_64.manylinux2014_x86_64.whl.metadata (3.2 kB)\n",
            "Collecting dl==0.1.0 (from -r requirements.txt (line 17))\n",
            "  Using cached dl-0.1.0.tar.gz (5.2 kB)\n",
            "  Preparing metadata (setup.py) ... \u001b[?25l\u001b[?25hdone\n",
            "Collecting docrepr==0.2.0 (from -r requirements.txt (line 18))\n",
            "  Using cached docrepr-0.2.0-py3-none-any.whl.metadata (4.0 kB)\n",
            "Collecting flint==0.0.1 (from -r requirements.txt (line 19))\n",
            "  Using cached flint-0.0.1.tar.gz (32 kB)\n",
            "  Preparing metadata (setup.py) ... \u001b[?25l\u001b[?25hdone\n",
            "Collecting fqdn==1.5.1 (from -r requirements.txt (line 20))\n",
            "  Using cached fqdn-1.5.1-py3-none-any.whl.metadata (1.4 kB)\n",
            "Collecting gevent==24.2.1 (from -r requirements.txt (line 21))\n",
            "  Using cached gevent-24.2.1-cp310-cp310-manylinux_2_28_x86_64.whl.metadata (13 kB)\n",
            "Collecting gmpy2==2.1.2 (from -r requirements.txt (line 22))\n",
            "  Using cached gmpy2-2.1.2-cp310-cp310-manylinux_2_17_x86_64.manylinux2014_x86_64.whl.metadata (2.2 kB)\n",
            "Collecting gobject==0.1.0 (from -r requirements.txt (line 23))\n",
            "  Using cached gobject-0.1.0-py3-none-any.whl.metadata (775 bytes)\n",
            "Collecting h2==4.1.0 (from -r requirements.txt (line 24))\n",
            "  Using cached h2-4.1.0-py3-none-any.whl.metadata (3.6 kB)\n",
            "Collecting HTMLParser==0.0.2 (from -r requirements.txt (line 25))\n",
            "  Using cached HTMLParser-0.0.2.tar.gz (6.0 kB)\n",
            "  Preparing metadata (setup.py) ... \u001b[?25l\u001b[?25hdone\n",
            "Collecting hypothesis==6.108.5 (from -r requirements.txt (line 26))\n",
            "  Using cached hypothesis-6.108.5-py3-none-any.whl.metadata (6.3 kB)\n",
            "Collecting imagecodecs==2023.1.23 (from -r requirements.txt (line 27))\n",
            "  Using cached imagecodecs-2023.1.23-cp310-cp310-manylinux_2_17_x86_64.manylinux2014_x86_64.whl.metadata (16 kB)\n",
            "Requirement already satisfied: imageio_ffmpeg==0.5.1 in /usr/local/lib/python3.10/dist-packages (from -r requirements.txt (line 28)) (0.5.1)\n",
            "Collecting imread==0.7.5 (from -r requirements.txt (line 29))\n",
            "  Using cached imread-0.7.5-cp310-cp310-manylinux_2_17_x86_64.manylinux2014_x86_64.whl.metadata (8.9 kB)\n",
            "Collecting ipykernel==6.29.5 (from -r requirements.txt (line 30))\n",
            "  Using cached ipykernel-6.29.5-py3-none-any.whl.metadata (6.3 kB)\n",
            "Requirement already satisfied: ipyparallel==8.8.0 in /usr/local/lib/python3.10/dist-packages (from -r requirements.txt (line 31)) (8.8.0)\n",
            "Collecting ipywidgets==8.0.4 (from -r requirements.txt (line 32))\n",
            "  Using cached ipywidgets-8.0.4-py3-none-any.whl.metadata (2.3 kB)\n",
            "Collecting isoduration==20.11.0 (from -r requirements.txt (line 33))\n",
            "  Using cached isoduration-20.11.0-py3-none-any.whl.metadata (5.7 kB)\n",
            "Collecting itk==5.4.0 (from -r requirements.txt (line 34))\n",
            "  Using cached itk-5.4.0-cp310-cp310-manylinux_2_28_x86_64.whl.metadata (22 kB)\n",
            "Collecting jax==0.4.31 (from -r requirements.txt (line 35))\n",
            "  Using cached jax-0.4.31-py3-none-any.whl.metadata (22 kB)\n",
            "Collecting jnius==1.1.0 (from -r requirements.txt (line 36))\n",
            "  Using cached jnius-1.1.0.tar.gz (28 kB)\n",
            "  Preparing metadata (setup.py) ... \u001b[?25l\u001b[?25hdone\n",
            "Collecting js==1.0 (from -r requirements.txt (line 37))\n",
            "  Using cached js-1.0.tar.gz (2.5 kB)\n",
            "  Preparing metadata (setup.py) ... \u001b[?25l\u001b[?25hdone\n",
            "Collecting jsonpointer==2.1 (from -r requirements.txt (line 38))\n",
            "  Using cached jsonpointer-2.1-py2.py3-none-any.whl.metadata (2.4 kB)\n",
            "Collecting keyring==23.13.1 (from -r requirements.txt (line 39))\n",
            "  Using cached keyring-23.13.1-py3-none-any.whl.metadata (20 kB)\n",
            "Collecting lockfile==0.12.2 (from -r requirements.txt (line 40))\n",
            "  Using cached lockfile-0.12.2-py2.py3-none-any.whl.metadata (2.4 kB)\n",
            "Collecting matchpy==0.5.5 (from -r requirements.txt (line 41))\n",
            "  Using cached matchpy-0.5.5-py3-none-any.whl.metadata (12 kB)\n",
            "Collecting matplotlib==3.7.2 (from -r requirements.txt (line 42))\n",
            "  Using cached matplotlib-3.7.2-cp310-cp310-manylinux_2_17_x86_64.manylinux2014_x86_64.whl.metadata (5.6 kB)\n",
            "Collecting mtrand==0.1 (from -r requirements.txt (line 43))\n",
            "  Using cached mtrand-0.1.tar.gz (46 kB)\n",
            "  Preparing metadata (setup.py) ... \u001b[?25l\u001b[?25hdone\n",
            "Collecting mypy==1.11.1 (from -r requirements.txt (line 44))\n",
            "  Using cached mypy-1.11.1-cp310-cp310-manylinux_2_17_x86_64.manylinux2014_x86_64.manylinux_2_28_x86_64.whl.metadata (1.9 kB)\n",
            "Collecting netifaces==0.11.0 (from -r requirements.txt (line 45))\n",
            "  Using cached netifaces-0.11.0.tar.gz (30 kB)\n",
            "  Preparing metadata (setup.py) ... \u001b[?25l\u001b[?25hdone\n",
            "\u001b[31mERROR: Could not find a version that satisfies the requirement numarray==1.5.1 (from versions: none)\u001b[0m\u001b[31m\n",
            "\u001b[0m\u001b[31mERROR: No matching distribution found for numarray==1.5.1\u001b[0m\u001b[31m\n",
            "\u001b[0mRequirement already satisfied: psd_tools in /usr/local/lib/python3.10/dist-packages (1.9.34)\n",
            "Requirement already satisfied: docopt>=0.6.0 in /usr/local/lib/python3.10/dist-packages (from psd_tools) (0.6.2)\n",
            "Requirement already satisfied: attrs>=23.0.0 in /usr/local/lib/python3.10/dist-packages (from psd_tools) (24.2.0)\n",
            "Requirement already satisfied: Pillow>=10.0.0 in /usr/local/lib/python3.10/dist-packages (from psd_tools) (10.4.0)\n",
            "Requirement already satisfied: aggdraw in /usr/local/lib/python3.10/dist-packages (from psd_tools) (1.3.18.post0)\n",
            "Requirement already satisfied: numpy in /usr/local/lib/python3.10/dist-packages (from psd_tools) (1.26.4)\n",
            "Requirement already satisfied: scipy in /usr/local/lib/python3.10/dist-packages (from psd_tools) (1.13.1)\n",
            "Requirement already satisfied: scikit-image in /usr/local/lib/python3.10/dist-packages (from psd_tools) (0.23.2)\n",
            "Requirement already satisfied: networkx>=2.8 in /usr/local/lib/python3.10/dist-packages (from scikit-image->psd_tools) (3.3)\n",
            "Requirement already satisfied: imageio>=2.33 in /usr/local/lib/python3.10/dist-packages (from scikit-image->psd_tools) (2.34.2)\n",
            "Requirement already satisfied: tifffile>=2022.8.12 in /usr/local/lib/python3.10/dist-packages (from scikit-image->psd_tools) (2024.7.24)\n",
            "Requirement already satisfied: packaging>=21 in /usr/local/lib/python3.10/dist-packages (from scikit-image->psd_tools) (24.1)\n",
            "Requirement already satisfied: lazy-loader>=0.4 in /usr/local/lib/python3.10/dist-packages (from scikit-image->psd_tools) (0.4)\n",
            "Requirement already satisfied: PhotoshopAPI in /usr/local/lib/python3.10/dist-packages (0.4.0)\n",
            "Requirement already satisfied: numpy>=1.21.6 in /usr/local/lib/python3.10/dist-packages (from PhotoshopAPI) (1.26.4)\n",
            "Requirement already satisfied: tqdm in /usr/local/lib/python3.10/dist-packages (4.66.5)\n"
          ]
        }
      ]
    },
    {
      "cell_type": "code",
      "source": [
        "!pip install PhotoshopAPI==0.3.0\n",
        "!pip install psd_tools"
      ],
      "metadata": {
        "colab": {
          "base_uri": "https://localhost:8080/"
        },
        "id": "7A-GOSvVfXCV",
        "outputId": "dcdb9cd3-42a6-4d92-e867-30ab4ffe53de"
      },
      "execution_count": null,
      "outputs": [
        {
          "output_type": "stream",
          "name": "stdout",
          "text": [
            "Requirement already satisfied: PhotoshopAPI==0.3.0 in /usr/local/lib/python3.10/dist-packages (0.3.0)\n",
            "Requirement already satisfied: numpy>=1.26 in /usr/local/lib/python3.10/dist-packages (from PhotoshopAPI==0.3.0) (1.26.4)\n",
            "Requirement already satisfied: psd_tools in /usr/local/lib/python3.10/dist-packages (1.9.34)\n",
            "Requirement already satisfied: docopt>=0.6.0 in /usr/local/lib/python3.10/dist-packages (from psd_tools) (0.6.2)\n",
            "Requirement already satisfied: attrs>=23.0.0 in /usr/local/lib/python3.10/dist-packages (from psd_tools) (24.2.0)\n",
            "Requirement already satisfied: Pillow>=10.0.0 in /usr/local/lib/python3.10/dist-packages (from psd_tools) (10.4.0)\n",
            "Requirement already satisfied: aggdraw in /usr/local/lib/python3.10/dist-packages (from psd_tools) (1.3.18.post0)\n",
            "Requirement already satisfied: numpy in /usr/local/lib/python3.10/dist-packages (from psd_tools) (1.26.4)\n",
            "Requirement already satisfied: scipy in /usr/local/lib/python3.10/dist-packages (from psd_tools) (1.13.1)\n",
            "Requirement already satisfied: scikit-image in /usr/local/lib/python3.10/dist-packages (from psd_tools) (0.23.2)\n",
            "Requirement already satisfied: networkx>=2.8 in /usr/local/lib/python3.10/dist-packages (from scikit-image->psd_tools) (3.3)\n",
            "Requirement already satisfied: imageio>=2.33 in /usr/local/lib/python3.10/dist-packages (from scikit-image->psd_tools) (2.34.2)\n",
            "Requirement already satisfied: tifffile>=2022.8.12 in /usr/local/lib/python3.10/dist-packages (from scikit-image->psd_tools) (2024.7.24)\n",
            "Requirement already satisfied: packaging>=21 in /usr/local/lib/python3.10/dist-packages (from scikit-image->psd_tools) (24.1)\n",
            "Requirement already satisfied: lazy-loader>=0.4 in /usr/local/lib/python3.10/dist-packages (from scikit-image->psd_tools) (0.4)\n"
          ]
        }
      ]
    },
    {
      "cell_type": "code",
      "source": [
        "import os\n",
        "from tqdm.notebook import tqdm\n",
        "import json\n",
        "import cv2\n",
        "import numpy as np\n",
        "from itertools import groupby, product\n",
        "import csv\n",
        "import argparse\n",
        "from utils import *\n",
        "from auto_labelling_multi_prods_v3 import layer_blend"
      ],
      "metadata": {
        "id": "avb3961J60A1"
      },
      "execution_count": 4,
      "outputs": []
    },
    {
      "cell_type": "code",
      "source": [
        "DATA_PATH = '/content/gdrive/Shareddrives/TheSEA_tech/AutoLabel/dataset'\n",
        "!ls $DATA_PATH\n",
        "test_data_file = os.path.join(DATA_PATH, \"test_1v3.json\")\n",
        "work_dir = os.path.join(os.path.dirname(DATA_PATH), \"output\")\n",
        "\n",
        "test_data = json.load(open(test_data_file))[\"test_batch_1\"]\n",
        "label_dir = DATA_PATH\n",
        "\n",
        "prod_specs_file = open(os.path.join(label_dir, 'autolabel-algo-data-testing', 'prod_static_spec_test.csv'), newline='', encoding='utf_8') # ISO-8859-1 # latin1\n",
        "prod_specs = list(csv.DictReader(prod_specs_file))\n",
        "\n",
        "prod_specs_keys = [item['label_id'] for item in prod_specs]\n",
        "new_prod_specs = dict(zip(prod_specs_keys, prod_specs))"
      ],
      "metadata": {
        "id": "h77jCjXQ9Tni",
        "colab": {
          "base_uri": "https://localhost:8080/"
        },
        "outputId": "6c5128ab-6c5a-4600-d7b9-9e92887b6c79"
      },
      "execution_count": 9,
      "outputs": [
        {
          "output_type": "stream",
          "name": "stdout",
          "text": [
            "autolabel-algo-data-testing  test_1v3.json  test-cases-rep\n"
          ]
        }
      ]
    },
    {
      "cell_type": "code",
      "source": [
        "# Paired product image and product hed image\n",
        "for row in tqdm(test_data):\n",
        "    prod_img = cv2.imread(os.path.join(DATA_PATH, row['dir_name'][1:], row['prod_img']), -1)\n",
        "    prod_hed_img = cv2.imread(os.path.join(DATA_PATH, row['dir_name'][1:], row['prod_hed']), -1)\n",
        "    prod_hed_ref_img = cv2.imread(os.path.join(DATA_PATH, row['dir_name'][1:], row['ref_hed']), -1)\n",
        "    label_img = cv2.imread(os.path.join(label_dir, row['label_img'][1:]), -1)\n",
        "    label_id = row['dir_name'].split('/')[-1]\n",
        "    prod_spec = new_prod_specs[label_id]\n",
        "    print(\"label_id\", label_id, prod_spec)\n",
        "\n",
        "    layer_blend(hed_image=prod_hed_img,   # (hed w bg)\n",
        "                product_hed_image=prod_hed_ref_img.copy(),   # (hed wo bg)\n",
        "                label_image=label_img,      # (brand logo rgba)\n",
        "                image=prod_img,       # (prod img)\n",
        "                prod_name=row['prod_img'].split('.')[0],  # (given)\n",
        "                product_width=float(prod_spec['product_width']),  # (given) set layer width\n",
        "                product_height=float(prod_spec['product_length']), # (given) set layer height\n",
        "                label_width=float(prod_spec['label_width']), # (given)\n",
        "                label_height=float(prod_spec['label_length']), # (given)\n",
        "                left_margin=float(prod_spec['left_margin_width']), # (given)\n",
        "                top_margin=float(prod_spec['top_margin_width']),  # (given)\n",
        "                save_path=os.path.join(work_dir, label_id),\n",
        "                save_psd=True)"
      ],
      "metadata": {
        "id": "D2Td7jzv9tNx",
        "colab": {
          "base_uri": "https://localhost:8080/",
          "height": 905,
          "referenced_widgets": [
            "4f6fbe5055b8466f873d40377b2092af",
            "650c322d62d7445f8aa8634f4ac8d3c6",
            "4f3b7bea8c3a4aab82598fcc5a6b6657",
            "f238f354e8b34a3c9513cca20e4dd639",
            "8434b94d0b224d7da00b71afdc8498e8",
            "c7e4aed4539c4349a411d6dee1942bd8",
            "e172c2630f81492aa863deddc734df51",
            "ab50a00249fc41b88fe17faf915a4639",
            "a93867ff344c4ad6b37df3ff96481389",
            "4801c53244b24e11ab363e5f6e29b215",
            "3a978363e3ee477f826015155e5ac9aa"
          ]
        },
        "outputId": "06c567f9-605a-453c-967a-2cee47d86ce8"
      },
      "execution_count": 16,
      "outputs": [
        {
          "output_type": "display_data",
          "data": {
            "text/plain": [
              "  0%|          | 0/113 [00:00<?, ?it/s]"
            ],
            "application/vnd.jupyter.widget-view+json": {
              "version_major": 2,
              "version_minor": 0,
              "model_id": "4f6fbe5055b8466f873d40377b2092af"
            }
          },
          "metadata": {}
        },
        {
          "output_type": "stream",
          "name": "stdout",
          "text": [
            "label_id HR001 {'brand_name': 'HELENA RUBINSTEIN', 'product_name': 'Replasty-Age-Recovery', 'product_width': '1017', 'product_length': '1042', 'label_width': '306', 'label_length': '378', 'left_margin_width': '360', 'top_margin_width': '408', 'label_id': 'HR001', 'label_name': 'Helena-rubinstein-replasty-age-recovery-label'}\n",
            "comparing p1, cntr, angle (458.0508769931162, 1655.3946557250727) (482, 553) 1.5925175463912122 -1\n",
            "1st round find closed contours 5\n",
            "2nd round find open contours 5\n",
            "1.5384642625682066e-05 inf\n",
            "1.4022825606141431e-05 1.5384642625682066e-05\n",
            "0.03641965366244726 1.4022825606141431e-05\n",
            "0.0454171314185407 1.4022825606141431e-05\n",
            "0.04618970861326721 1.4022825606141431e-05\n",
            "max contour 148352.5 (500, 486) (500, 486)\n",
            "0 503 647 145069.0\n",
            "1 503 647 148352.5\n",
            "The grouped elements : [[(1, 503, 647), (0, 503, 647)]]\n",
            "1 [[(1, 503, 647), (0, 503, 647)]]\n",
            "contour shape (500, 486)\n",
            "contour shape (485, 500)\n",
            "best contour matching score 0 1.4022825606141431e-05 (1, 503, 647) 148352.5\n",
            "primer contour 1.4022825606141431e-05\n",
            "1.4022825606141431e-05 1.0 148352.5\n",
            "poly matched\n",
            "shape matched\n",
            "size matched\n",
            "comparing p1, cntr, angle (481.9096152645941, 1305.4933726743368) (491, 633) 1.5843129375115585 0\n",
            "scale_ratio 422.0 1042.0 411.0 1017.0 (0.4049904030710173, 0.40412979351032446)\n",
            "(153, 124, 4) 306.0 378.0 411.0 422.0 1017.0 1042.0\n",
            "margin 143.66814159292034 134.45681381957775 * 145.4867256637168 165.23608445297506\n",
            "rota label img shape (153, 124, 4) 512 512 (491, 633) (504.5, 649.0)\n",
            "dict_keys(['1'])\n"
          ]
        },
        {
          "output_type": "error",
          "ename": "RuntimeError",
          "evalue": "filesystem error: cannot create directories: Read-only file system [/content/gdrive/Shareddrives/TheSEA_tech/AutoLabel/output]",
          "traceback": [
            "\u001b[0;31m---------------------------------------------------------------------------\u001b[0m",
            "\u001b[0;31mRuntimeError\u001b[0m                              Traceback (most recent call last)",
            "\u001b[0;32m<ipython-input-16-3a50697346cb>\u001b[0m in \u001b[0;36m<cell line: 2>\u001b[0;34m()\u001b[0m\n\u001b[1;32m      9\u001b[0m     \u001b[0mprint\u001b[0m\u001b[0;34m(\u001b[0m\u001b[0;34m\"label_id\"\u001b[0m\u001b[0;34m,\u001b[0m \u001b[0mlabel_id\u001b[0m\u001b[0;34m,\u001b[0m \u001b[0mprod_spec\u001b[0m\u001b[0;34m)\u001b[0m\u001b[0;34m\u001b[0m\u001b[0;34m\u001b[0m\u001b[0m\n\u001b[1;32m     10\u001b[0m \u001b[0;34m\u001b[0m\u001b[0m\n\u001b[0;32m---> 11\u001b[0;31m     layer_blend(hed_image=prod_hed_img,   # (hed w bg)\n\u001b[0m\u001b[1;32m     12\u001b[0m                 \u001b[0mproduct_hed_image\u001b[0m\u001b[0;34m=\u001b[0m\u001b[0mprod_hed_ref_img\u001b[0m\u001b[0;34m.\u001b[0m\u001b[0mcopy\u001b[0m\u001b[0;34m(\u001b[0m\u001b[0;34m)\u001b[0m\u001b[0;34m,\u001b[0m   \u001b[0;31m# (hed wo bg)\u001b[0m\u001b[0;34m\u001b[0m\u001b[0;34m\u001b[0m\u001b[0m\n\u001b[1;32m     13\u001b[0m                 \u001b[0mlabel_image\u001b[0m\u001b[0;34m=\u001b[0m\u001b[0mlabel_img\u001b[0m\u001b[0;34m,\u001b[0m      \u001b[0;31m# (brand logo rgba)\u001b[0m\u001b[0;34m\u001b[0m\u001b[0;34m\u001b[0m\u001b[0m\n",
            "\u001b[0;32m/content/gdrive/MyDrive/Colab Notebooks/AutoLabeling/auto_labelling_multi_prods_v3.py\u001b[0m in \u001b[0;36mlayer_blend\u001b[0;34m(hed_image, product_hed_image, label_image, image, prod_name, product_width, product_height, label_width, label_height, left_margin, top_margin, blend_mode, opacity, save_path, save_psd)\u001b[0m\n\u001b[1;32m    426\u001b[0m         \u001b[0mfile_dest\u001b[0m\u001b[0;34m.\u001b[0m\u001b[0madd_layer\u001b[0m\u001b[0;34m(\u001b[0m\u001b[0mprod_hed_layer\u001b[0m\u001b[0;34m)\u001b[0m\u001b[0;34m\u001b[0m\u001b[0;34m\u001b[0m\u001b[0m\n\u001b[1;32m    427\u001b[0m         \u001b[0mfile_dest\u001b[0m\u001b[0;34m.\u001b[0m\u001b[0madd_layer\u001b[0m\u001b[0;34m(\u001b[0m\u001b[0mcontour_layer\u001b[0m\u001b[0;34m)\u001b[0m\u001b[0;34m\u001b[0m\u001b[0;34m\u001b[0m\u001b[0m\n\u001b[0;32m--> 428\u001b[0;31m         \u001b[0mfile_dest\u001b[0m\u001b[0;34m.\u001b[0m\u001b[0mwrite\u001b[0m\u001b[0;34m(\u001b[0m\u001b[0msave_path\u001b[0m \u001b[0;34m+\u001b[0m \u001b[0mprod_name\u001b[0m \u001b[0;34m+\u001b[0m \u001b[0;34m'.psd'\u001b[0m\u001b[0;34m)\u001b[0m\u001b[0;34m\u001b[0m\u001b[0;34m\u001b[0m\u001b[0m\n\u001b[0m\u001b[1;32m    429\u001b[0m         \u001b[0mprint\u001b[0m\u001b[0;34m(\u001b[0m\u001b[0;34m\"file saved\"\u001b[0m\u001b[0;34m,\u001b[0m \u001b[0msave_path\u001b[0m\u001b[0;34m,\u001b[0m \u001b[0mprod_name\u001b[0m\u001b[0;34m+\u001b[0m\u001b[0;34m'.psd'\u001b[0m\u001b[0;34m)\u001b[0m\u001b[0;34m\u001b[0m\u001b[0;34m\u001b[0m\u001b[0m\n\u001b[1;32m    430\u001b[0m \u001b[0;34m\u001b[0m\u001b[0m\n",
            "\u001b[0;31mRuntimeError\u001b[0m: filesystem error: cannot create directories: Read-only file system [/content/gdrive/Shareddrives/TheSEA_tech/AutoLabel/output]"
          ]
        }
      ]
    }
  ]
}